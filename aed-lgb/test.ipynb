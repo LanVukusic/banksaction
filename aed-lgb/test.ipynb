{
 "cells": [
  {
   "cell_type": "code",
   "execution_count": 1,
   "id": "b503178b",
   "metadata": {},
   "outputs": [
    {
     "name": "stdout",
     "output_type": "stream",
     "text": [
      "   TRANSACTION_ID         TX_DATETIME  CUSTOMER_ID  TERMINAL_ID  TX_AMOUNT  \\\n",
      "0               0 2024-04-01 00:01:59         3305       7154.0      49.32   \n",
      "1               1 2024-04-01 00:03:26         4751          NaN     122.49   \n",
      "2               2 2024-04-01 00:03:27         4172          NaN      10.06   \n",
      "3               3 2024-04-01 00:06:20         4459          NaN     117.22   \n",
      "4               4 2024-04-01 00:06:33           95       1901.0     108.38   \n",
      "\n",
      "   MERCHANT_ID  IS_ONLINE  TX_FRAUD  TX_FRAUD_SCENARIO  \\\n",
      "0        738.0      False         0                  0   \n",
      "1        407.0       True         0                  0   \n",
      "2        421.0       True         0                  0   \n",
      "3        889.0       True         0                  0   \n",
      "4        496.0      False         0                  0   \n",
      "\n",
      "   CUSTOMER_IS_COMPROMISED  MERCHANT_IS_COMPROMISED  TERMINAL_IS_COMPROMISED  \\\n",
      "0                    False                    False                    False   \n",
      "1                    False                    False                    False   \n",
      "2                    False                    False                    False   \n",
      "3                    False                    False                    False   \n",
      "4                    False                    False                    False   \n",
      "\n",
      "   TERMINAL_X  TERMINAL_Y TX_TIME_SECONDS TX_TIME_DAYS  \n",
      "0    65.86222   45.538406            None         None  \n",
      "1         NaN         NaN            None         None  \n",
      "2         NaN         NaN            None         None  \n",
      "3         NaN         NaN            None         None  \n",
      "4    77.18023   65.808298            None         None  \n"
     ]
    }
   ],
   "source": [
    "import pandas as pd\n",
    "\n",
    "df = pd.read_parquet(\"transactions.parquet\")\n",
    "print(df.head())\n"
   ]
  }
 ],
 "metadata": {
  "kernelspec": {
   "display_name": "banke",
   "language": "python",
   "name": "python3"
  },
  "language_info": {
   "codemirror_mode": {
    "name": "ipython",
    "version": 3
   },
   "file_extension": ".py",
   "mimetype": "text/x-python",
   "name": "python",
   "nbconvert_exporter": "python",
   "pygments_lexer": "ipython3",
   "version": "3.13.2"
  }
 },
 "nbformat": 4,
 "nbformat_minor": 5
}
